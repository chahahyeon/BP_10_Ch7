{
  "nbformat": 4,
  "nbformat_minor": 0,
  "metadata": {
    "colab": {
      "provenance": [],
      "authorship_tag": "ABX9TyOru5vVsCmByCGqYSGROPn2",
      "include_colab_link": true
    },
    "kernelspec": {
      "name": "python3",
      "display_name": "Python 3"
    },
    "language_info": {
      "name": "python"
    }
  },
  "cells": [
    {
      "cell_type": "markdown",
      "metadata": {
        "id": "view-in-github",
        "colab_type": "text"
      },
      "source": [
        "<a href=\"https://colab.research.google.com/github/chahahyeon/BP_10_Ch7/blob/main/BP_10_EX_Ch7.ipynb\" target=\"_parent\"><img src=\"https://colab.research.google.com/assets/colab-badge.svg\" alt=\"Open In Colab\"/></a>"
      ]
    },
    {
      "cell_type": "code",
      "execution_count": 2,
      "metadata": {
        "colab": {
          "base_uri": "https://localhost:8080/"
        },
        "id": "GxQLhlHc8yfT",
        "outputId": "7af8ed54-6322-4e9d-8147-070115f7e227"
      },
      "outputs": [
        {
          "output_type": "stream",
          "name": "stdout",
          "text": [
            "Happy Birthday to you!\n",
            "Happy Birthday to you!\n",
            "Happy Birthday, dear 홍길동\n",
            "Happy Birthday to you!\n"
          ]
        }
      ],
      "source": [
        "def happyBirthday(person):\n",
        "  print(\"Happy Birthday to you!\")\n",
        "  print(\"Happy Birthday to you!\")\n",
        "  print(\"Happy Birthday, dear \" + person)\n",
        "  print(\"Happy Birthday to you!\")\n",
        "  \n",
        "happyBirthday(\"홍길동\")"
      ]
    },
    {
      "cell_type": "code",
      "source": [
        "def sumProblem(x, y):\n",
        "  sum = x + y\n",
        "  sentence = \"정수 \" + str(x) + \" + \"+str(y)+\"의 합은?\"\n",
        "  print(sentence)\n",
        "\n",
        "def main():\n",
        "  a = int(input(\"첫 번째 정수: \"))\n",
        "  b = int(input(\"두 번째 정수: \"))\n",
        "  sumProblem(a, b)\n",
        "\n",
        "main()\n"
      ],
      "metadata": {
        "colab": {
          "base_uri": "https://localhost:8080/"
        },
        "id": "BkedfOeF89US",
        "outputId": "4ad39060-7299-483b-acbe-6738f7023d5a"
      },
      "execution_count": 5,
      "outputs": [
        {
          "output_type": "stream",
          "name": "stdout",
          "text": [
            "첫 번째 정수: 10\n",
            "두 번째 정수: 20\n",
            "정수 10 + 20의 합은?\n"
          ]
        }
      ]
    },
    {
      "cell_type": "code",
      "source": [
        "PI = 3.14159265358979\n",
        "\n",
        "def circleArea(radius):\n",
        "  return PI*radius*radius\n",
        "\n",
        "def circleCircumference(radius):\n",
        "  return 2*PI*radius\n",
        "\n",
        "def main():\n",
        "  print('반지름이 5인 원의 면적:', circleArea(5))\n",
        "  print('반지름이 5인 원의 둘레:', circleCircumference(5))\n",
        "  \n",
        "main()"
      ],
      "metadata": {
        "colab": {
          "base_uri": "https://localhost:8080/"
        },
        "id": "PlALs-Sj9NFY",
        "outputId": "8023cf3c-3f02-440e-f6dd-5b537ef50c2c"
      },
      "execution_count": 6,
      "outputs": [
        {
          "output_type": "stream",
          "name": "stdout",
          "text": [
            "반지름이 5인 원의 면적: 78.53981633974475\n",
            "반지름이 5인 원의 둘레: 31.4159265358979\n"
          ]
        }
      ]
    },
    {
      "cell_type": "code",
      "source": [
        "def add(a, b):\n",
        "  print( \"(%d + %d)\" % (a, b), end=\" \")\n",
        "  return a + b\n",
        "\n",
        "def subtract(a, b):\n",
        "  print (\"(%d - %d)\" % (a, b), end=\" \")\n",
        "  return a - b\n",
        "\n",
        "def multiply(a, b):\n",
        "  print (\"(%d * %d)\" % (a, b), end=\" \")\n",
        "  return a * b\n",
        "\n",
        "def divide(a, b):\n",
        "  print (\"(%d / %d)\" % (a, b), end=\" \")\n",
        "  return a / b\n",
        "\n",
        "\n",
        "what = add(20, 10)\n",
        "print(\"= \", what)"
      ],
      "metadata": {
        "colab": {
          "base_uri": "https://localhost:8080/"
        },
        "id": "-G-nZS7P-DHp",
        "outputId": "50df297b-992f-4469-c638-cf5f15c57a06"
      },
      "execution_count": 7,
      "outputs": [
        {
          "output_type": "stream",
          "name": "stdout",
          "text": [
            "(20 + 10) =  30\n"
          ]
        }
      ]
    }
  ]
}